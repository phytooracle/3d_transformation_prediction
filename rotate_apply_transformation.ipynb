{
 "cells": [
  {
   "cell_type": "code",
   "execution_count": 37,
   "metadata": {},
   "outputs": [],
   "source": [
    "import os\n",
    "import sys\n",
    "import open3d as o3d\n",
    "import numpy as np\n",
    "import copy\n",
    "import glob\n",
    "import json"
   ]
  },
  {
   "cell_type": "code",
   "execution_count": 38,
   "metadata": {},
   "outputs": [],
   "source": [
    "#-------------------------------------------------------------------------------\n",
    "def rotate_pcd(pcd ,rotation_theta=90, center_pcd=None):\n",
    "\n",
    "    theta = np.radians(rotation_theta)\n",
    "\n",
    "    if center_pcd is not None:\n",
    "        min_x, min_y, min_z = center_pcd.get_min_bound()\n",
    "        max_x, max_y, max_z = center_pcd.get_max_bound()\n",
    "\n",
    "        center_x = abs(max_x - min_x)/2\n",
    "        center_y = abs(max_y - min_y)/2\n",
    "        center_z = abs(max_z - min_z)/2\n",
    "    else:\n",
    "        min_x, min_y, min_z = pcd.get_min_bound()\n",
    "        max_x, max_y, max_z = pcd.get_max_bound()\n",
    "\n",
    "        center_x = abs(max_x - min_x)/2\n",
    "        center_y = abs(max_y - min_y)/2\n",
    "        center_z = abs(max_z - min_z)/2\n",
    "\n",
    "    rotation_matrix = np.array([[np.cos(theta), -np.sin(theta), 0],\n",
    "                [np.sin(theta), np.cos(theta), 0],\n",
    "                [0, 0, 1]])\n",
    "\n",
    "    rotated_pcd = pcd.rotate(rotation_matrix, center=[center_x, center_y, center_z])\n",
    "\n",
    "    return rotated_pcd\n",
    "\n",
    "\n",
    "#-------------------------------------------------------------------------------\n",
    "def open_pointcloud(file_path):\n",
    "    \n",
    "    pcd = o3d.io.read_point_cloud(file_path,\n",
    "                                        remove_nan_points=True,\n",
    "                                        remove_infinite_points=True)\n",
    "    \n",
    "    down_pcd = copy.deepcopy(pcd).voxel_down_sample(voxel_size=15)\n",
    "\n",
    "    return down_pcd\n",
    "\n",
    "\n",
    "#-------------------------------------------------------------------------------\n",
    "def load_metadata_dict(path):\n",
    "    \n",
    "    with open(path) as f:\n",
    "        meta = json.load(f)['lemnatec_measurement_metadata']\n",
    "\n",
    "    return meta\n",
    "\n",
    "\n",
    "#-------------------------------------------------------------------------------"
   ]
  },
  {
   "cell_type": "code",
   "execution_count": 39,
   "metadata": {},
   "outputs": [],
   "source": [
    "# Open the raw point cloud, directly from the gantry\n",
    "down_east_pcd = open_pointcloud('./scanner3DTop-2023-07-21__12-59-17-030_sorghum/2023-07-21__16-13-54-334/ec637c9f-403f-4b71-8aaf-cac171121bd9__Top-heading-east_0.ply')\n",
    "down_west_pcd = open_pointcloud('./scanner3DTop-2023-07-21__12-59-17-030_sorghum/2023-07-21__16-13-54-334/ec637c9f-403f-4b71-8aaf-cac171121bd9__Top-heading-west_0.ply')\n",
    "\n",
    "# Open the metadata\n",
    "metadata = load_metadata_dict('./scanner3DTop-2023-07-21__12-59-17-030_sorghum/2023-07-21__16-13-54-334/ec637c9f-403f-4b71-8aaf-cac171121bd9_metadata.json')\n",
    "\n",
    "# Rotate point cloud\n",
    "new_east_down = rotate_pcd(down_east_pcd,90)\n",
    "new_west_down = rotate_pcd(down_west_pcd,90)\n",
    "\n",
    "# Apply initial, required translation\n",
    "if metadata['gantry_system_variable_metadata']['scanIsInPositiveDirection'] == \"False\":\n",
    "\n",
    "    new_east_down = new_east_down.translate([0,(float(metadata['gantry_system_variable_metadata']['position x [m]'])-3.798989)/(8.904483-7.964989)*1000,0])\n",
    "    new_west_down = new_west_down.translate([0,(float(metadata['gantry_system_variable_metadata']['position x [m]'])-3.798989)/(8.904483-7.964989)*1000,0])\n",
    "    pcd_direction = \"Negative\"\n",
    "\n",
    "else:\n",
    "\n",
    "    new_east_down = new_east_down.translate([22280.82692587,(float(metadata['gantry_system_variable_metadata']['position x [m]'])-3.798989)/(8.904483-7.964989)*1000,0])\n",
    "    new_west_down = new_west_down.translate([22280.82692587,(float(metadata['gantry_system_variable_metadata']['position x [m]'])-3.798989)/(8.904483-7.964989)*1000,0])\n",
    "    pcd_direction = \"Positive\"\n",
    "\n",
    "# Redefine the scan direction\n",
    "scan_direction = 0.0 if pcd_direction==\"Negative\" else 1.0\n",
    "\n",
    "# Apply the transformation to the point cloud\n",
    "final_pcd = copy.deepcopy(new_east_down).transform(<transformation here>)\n",
    "\n",
    "# Save the rotated, transformed point cloud\n",
    "o3d.io.write_point_cloud(\"net_results.ply\", final_pcd)"
   ]
  },
  {
   "cell_type": "code",
   "execution_count": 36,
   "metadata": {},
   "outputs": [
    {
     "data": {
      "text/plain": [
       "True"
      ]
     },
     "execution_count": 36,
     "metadata": {},
     "output_type": "execute_result"
    }
   ],
   "source": [
    "##################### IGNORE #####################\n",
    "# neg = new_east_down.transform(np.load('2023-07-21_ew_negative_final_transformation.npy'))\n",
    "# pos = new_east_down.transform(np.load('2023-07-21_ew_positive_final_transformation.npy'))\n",
    "# o3d.io.write_point_cloud(\"positive.ply\", pos)\n",
    "# o3d.io.write_point_cloud(\"negative.ply\", neg)\n",
    "\n",
    "# if scan_direction == 1.0:\n",
    "#     new_east_down.transform(<transformation>)\n",
    "# else:\n",
    "#     new_west_down.transform(<transformation>)"
   ]
  }
 ],
 "metadata": {
  "kernelspec": {
   "display_name": "Python 3",
   "language": "python",
   "name": "python3"
  },
  "language_info": {
   "codemirror_mode": {
    "name": "ipython",
    "version": 3
   },
   "file_extension": ".py",
   "mimetype": "text/x-python",
   "name": "python",
   "nbconvert_exporter": "python",
   "pygments_lexer": "ipython3",
   "version": "3.10.12"
  }
 },
 "nbformat": 4,
 "nbformat_minor": 2
}
